{
 "cells": [
  {
   "cell_type": "code",
   "execution_count": 1,
   "metadata": {},
   "outputs": [],
   "source": [
    "ciphertext_raw =  \"nvkdgofvycwpqzjtwsixybtbyymshsuerskwpbjtfcprbtbbjzqabtgtmjerulnehggkfpmzgdmctrgzqpgszgcclwxvbgbbmrainoncwxmw\"\n",
    "ciphertext_raw += \"urawxorupxgyhzphmzarrpuzgjndhbqwegtbwcyixrulepkgjfsawpgjnxezgugcmccxjplgqwupmstkftgkckcgtbfjsvtfuymjerdvqibf\"\n",
    "ciphertext_raw += \"tvbuhfcnfxescwrtkhjvlynwevmutvccdaxaqerwthuhstxnguycwtkcrtksfswixoukppbbgiqwhinuzttrfvbubbccjnmvgcgfnwfjfdnz\"\n",
    "ciphertext_raw += \"fschmwticstuczlxyhjveatguzqvhfivmjlopurpezafshacwcbhjigvxttzgdmcbbukcpwchrfpetnvkdgopuyswwpxrlhhcsjtldqfldyg\"\n",
    "ciphertext_raw += \"wxyglvqljstunrqhhtnvkdgofvztvcnucchiiyrdfomvwdnfvvciavwirchpwkrwxunrqhlvqljsushfevxrwgkdksqmcglvqljsbqgkpprp\"\n",
    "ciphertext_raw += \"ggsibbvfrwxunrqhgcctmuysgjndhbqwgrxkjzawbgdimzxbvfnxxqgjadnzfscpwrgugcmcvycveoujyhrcwnghagjfsawmqlnjmonvkdgk\"\n",
    "ciphertext_raw += \"guethfrlrpesoflhewevgcmcvycveoujnjmhkeepesofllxrivqtxaudmgxrgtmgthkmcxymqlupghvfqbxznccbhbmvccxfafsrhinunjmh\"\n",
    "ciphertext_raw += \"jvjtfcpjjxvskerdmvgxjplgciciasuvqixduvldnujkmbtygxptthnvkdgofvldmvgpygxbqkjtfcpqchmopudgxgjdgcmgjfsawpgzlung\"\n",
    "ciphertext_raw += \"gugcmvgccbhbcucpgrvyccushzjixfgughmvkjixgrqwjtfcprbtnzviyhndgipxvvpvqhvcptcggbqzrxlbqkgibgllqimvgtmcvstemuzs\"\n",
    "ciphertext_raw += \"vkgczdnvyhnfgfsihtnzdtbgvyghbarfpitbvpchbhkjztvowjcxmgjfuhrcwemimcozqhhdrfpinbkkwihzkmctospzliasofbtlheflsbh\"\n",
    "ciphertext_raw += \"kflhponbgcztqiycacwigcmvgdmggwpxycwhjvlitykeehacyvppkskdndkhceriawpxqihcccqdtbgxelhinuztlqtrkqesfngiaonzries\"\n",
    "ciphertext_raw += \"dzrhtzvgceistrlsuivkcgmvgegipcwcbqxgrzjaxrkerwxsixqwtdguycwsixqxssfjrtxzelnqhwnzlvmvgvevyctkudfwplrtlwuzkehf\"\n",
    "ciphertext_raw += \"vrlimcqkfjlmqladnzfsmxehjvkdlhfvjxvwqlqtzuafskxsxvptthgeuwxfgtycrcwwgcwopvevlvcgcstbfvevlwbvbhmsgcajibqnftks\"\n",
    "ciphertext_raw += \"yywqxqclqtifqusrbbikftvirzqiasovawtbkjkdydqgsatffvkpgrafsrtbpfrubbfkfpmykebdyqwggurcwumcmvcmcpwsggnaxoulptht\"\n",
    "ciphertext_raw += \"vrqibbiucabqkfshuckccsxuikfpmwueminzviyhndgipxvvpvqhifqsjtfhjrrxlhjvadgqgildyugkrxgurccplitvmjmchcguxrgcgrbc\"\n",
    "ciphertext_raw += \"wjjtfcprbttbflluhfivritpnvrplhgfdqhwnvbtzuccqdponbgcztqiycacwiycwhcbgczpckfrhinuwdnrqrjahtvychxgvldugcyywqxq\"\n",
    "ciphertext_raw += \"clqtmvgjchmihwadnzfemiusgebdgsdpyhbbiccexfuflubfukjnrcwtycgcvwgcwonvkdgwpkftacwjclasppmjpwuyrdfomvyaxaqeysxg\"\n",
    "ciphertext_raw += \"gtmcwzapmjpcwcbchhyzqwmcfigcdzgdmctrgrlnfctvuwxbafsvhcwkqxwsvfzjronvkdggwgndlsvyyircwrptiovzccmmqlzdnujkjtfc\"\n",
    "ciphertext_raw += \"pjycwqcdcqtqmkmwhagsjjghmeguxqqljsgcvtsiesoflhfctvmkxfafsbbujkddkugkrdiivtmawkckcgbbtvdgbugiyihfqiwdnfpvgvap\"\n",
    "ciphertext_raw += \"qlpbbujkzdkfqnwdnfuhstxngiztlwfvqiastvkxzvvscchakerixoukppbbgiadnzfemiusyrqwxrifpvxcwjycwhccjveoujuplptfitgm\"\n",
    "ciphertext_raw += \"gjrtkrcprwxfgnmjerdvkxgstrjlthgigclhgrbdyzgdmctrgzlchjckgdggyfsawacbcnhiurbnhierlchhfigcdonvkdgofvgcycixcsnd\"\n",
    "ciphertext_raw += \"icyhlopunjmonvkdgkguetrcwtmjerfigcdoozltkonnyixfkeqixoffdaxaqeysxmqladnzfeckxfgrrpuckccsxuizliasukcteqwgztlw\"\n",
    "ciphertext_raw += \"fvqbhfpzlvponbqpkspfrrhaoflwtpkkwdnakxfiponbmgfwiyrchhuzxthtvycytdcechxdkeeehbikyqeskjojtfvvpdyhjvadfaqenxgu\"\n",
    "ciphertext_raw += \"rflvmodccnhierlchhcsqdeivvjnizcpyytdcechxdkeeehbiscrtiuvppvygkqbbujkztufqbcchfrzlvicpxrpuzgnmjerdvrgtbuwmgfs\"\n",
    "ciphertext_raw += \"fzlihhjvgghbkeeitpnvetmhkeeeescjsgxcwkmuewhvghtqwcrjksllqiewmvjdosqwdahkgikjlwefphpwodgczmqlkxzvvyykxzkwcees\"\n",
    "ciphertext_raw += \"cjsgxctpmjfwiyrchhkwrwbgmzlshtnfttbgpfrhmfqeetgcwxfiaspgcdizgtmjerpvgiastdyzxopvduhfvwmgvfgrrxosnzdtgctycpmv\"\n",
    "ciphertext_raw += \"hljahjgkftrtgvjhnthfapmsfwyhmspkftuzcdcdgcvycglhjvwlhinuldmdnrllaovkmshhjvwltgvvrwxzqmcarzkwcpgrfzqpidgrpias\"\n",
    "ciphertext_raw += \"nftthtnzdtbgviycltgiptwpakftxbgientbfcguxdnvyhnfgwmgzspvppmwqeqxyhjvccxfipbdxgpfrtqwukrwxbvycgxkqljsuseiyumw\"\n",
    "ciphertext_raw += \"pvqhywprjarqtrdibbgjqxlhjvccxaafdahjgfdabtgrlszsvkgczdnvyhnfgfsihtnzdt\""
   ]
  },
  {
   "cell_type": "code",
   "execution_count": 2,
   "metadata": {},
   "outputs": [],
   "source": [
    "ciphertext = list(ciphertext_raw)"
   ]
  },
  {
   "cell_type": "code",
   "execution_count": 3,
   "metadata": {},
   "outputs": [],
   "source": [
    "import pandas as pd"
   ]
  },
  {
   "cell_type": "code",
   "execution_count": 4,
   "metadata": {},
   "outputs": [],
   "source": [
    "def findNgrams(ciphertext, n):\n",
    "    ngrams = []\n",
    "    for i in range(0 ,len(ciphertext) - n):\n",
    "        ngram = \"\"\n",
    "        for j in range(0, n):\n",
    "            ngram += ciphertext[i+j]\n",
    "        ngrams.append(ngram)\n",
    "    \n",
    "    return pd.DataFrame(ngrams, columns=[\"ngram\"])"
   ]
  },
  {
   "cell_type": "code",
   "execution_count": 5,
   "metadata": {},
   "outputs": [
    {
     "data": {
      "text/plain": [
       "nvkdgofv    4\n",
       "dnvyhnfg    3\n",
       "zgdmctrg    3\n",
       "jtfcprbt    3\n",
       "zsvkgczd    2\n",
       "Name: ngram, dtype: int64"
      ]
     },
     "execution_count": 5,
     "metadata": {},
     "output_type": "execute_result"
    }
   ],
   "source": [
    "findNgrams(ciphertext, 8)['ngram'].value_counts().head()"
   ]
  },
  {
   "cell_type": "code",
   "execution_count": 6,
   "metadata": {},
   "outputs": [],
   "source": [
    "import re"
   ]
  },
  {
   "cell_type": "code",
   "execution_count": 7,
   "metadata": {},
   "outputs": [],
   "source": [
    "def findWordIndex(text, word):\n",
    "    idx = []\n",
    "    for w in re.finditer(word, text):\n",
    "        idx.append(w.start())\n",
    "    return idx"
   ]
  },
  {
   "cell_type": "code",
   "execution_count": 8,
   "metadata": {},
   "outputs": [],
   "source": [
    "idx = findWordIndex(ciphertext_raw, 'jtfcprbt')"
   ]
  },
  {
   "cell_type": "code",
   "execution_count": 9,
   "metadata": {},
   "outputs": [
    {
     "name": "stdout",
     "output_type": "stream",
     "text": [
      "714\n",
      "870\n"
     ]
    }
   ],
   "source": [
    "for i in range(len(idx)-1, 0, -1):\n",
    "    #print(idx[i],\" - \",idx[i-1])\n",
    "    print(idx[i] - idx[i-1])"
   ]
  },
  {
   "cell_type": "code",
   "execution_count": 10,
   "metadata": {},
   "outputs": [],
   "source": [
    "def gcd(a, b): #euclidean algorithm\n",
    "    if  b == 0:\n",
    "        return a\n",
    "    else:\n",
    "        return gcd(b, a % b)"
   ]
  },
  {
   "cell_type": "code",
   "execution_count": 11,
   "metadata": {},
   "outputs": [
    {
     "data": {
      "text/plain": [
       "6"
      ]
     },
     "execution_count": 11,
     "metadata": {},
     "output_type": "execute_result"
    }
   ],
   "source": [
    "gcd(714, 870)"
   ]
  },
  {
   "cell_type": "code",
   "execution_count": 12,
   "metadata": {},
   "outputs": [],
   "source": [
    "#key length can be 6 or its factors 3 or 2"
   ]
  },
  {
   "cell_type": "code",
   "execution_count": 13,
   "metadata": {},
   "outputs": [],
   "source": [
    "#BTW, key was crypto which was really length of 6\n",
    "key = \"crypto\""
   ]
  }
 ],
 "metadata": {
  "kernelspec": {
   "display_name": "Python 3",
   "language": "python",
   "name": "python3"
  },
  "language_info": {
   "codemirror_mode": {
    "name": "ipython",
    "version": 3
   },
   "file_extension": ".py",
   "mimetype": "text/x-python",
   "name": "python",
   "nbconvert_exporter": "python",
   "pygments_lexer": "ipython3",
   "version": "3.6.4"
  }
 },
 "nbformat": 4,
 "nbformat_minor": 2
}
