{
 "cells": [
  {
   "cell_type": "code",
   "execution_count": 1,
   "metadata": {},
   "outputs": [],
   "source": [
    "import commons"
   ]
  },
  {
   "cell_type": "code",
   "execution_count": 2,
   "metadata": {},
   "outputs": [],
   "source": [
    "m = \"Attack to night\""
   ]
  },
  {
   "cell_type": "code",
   "execution_count": 3,
   "metadata": {},
   "outputs": [],
   "source": [
    "key = 5"
   ]
  },
  {
   "cell_type": "markdown",
   "metadata": {},
   "source": [
    "# Preprocessing tasks"
   ]
  },
  {
   "cell_type": "code",
   "execution_count": 4,
   "metadata": {},
   "outputs": [
    {
     "data": {
      "text/plain": [
       "'m = m.replace(\" \",\"\")\\nm = m.lower()'"
      ]
     },
     "execution_count": 4,
     "metadata": {},
     "output_type": "execute_result"
    }
   ],
   "source": [
    "\"\"\"m = m.replace(\" \",\"\")\n",
    "m = m.lower()\"\"\""
   ]
  },
  {
   "cell_type": "code",
   "execution_count": 5,
   "metadata": {},
   "outputs": [],
   "source": [
    "m = commons.preprocessing(m)"
   ]
  },
  {
   "cell_type": "code",
   "execution_count": 6,
   "metadata": {},
   "outputs": [
    {
     "data": {
      "text/plain": [
       "'attacktonight'"
      ]
     },
     "execution_count": 6,
     "metadata": {},
     "output_type": "execute_result"
    }
   ],
   "source": [
    "m"
   ]
  },
  {
   "cell_type": "markdown",
   "metadata": {},
   "source": [
    "# Encryption"
   ]
  },
  {
   "cell_type": "code",
   "execution_count": 7,
   "metadata": {},
   "outputs": [],
   "source": [
    "letters = commons.lettersOfPlaintext(m)"
   ]
  },
  {
   "cell_type": "code",
   "execution_count": 8,
   "metadata": {},
   "outputs": [
    {
     "name": "stdout",
     "output_type": "stream",
     "text": [
      "alphabet:  abcdefghijklmnopqrstuvwxyz\n"
     ]
    }
   ],
   "source": [
    "import string\n",
    "print(\"alphabet: \",string.ascii_lowercase)"
   ]
  },
  {
   "cell_type": "code",
   "execution_count": 11,
   "metadata": {},
   "outputs": [],
   "source": [
    "ciphertext = []\n",
    "\n",
    "for letter in letters:\n",
    "    \n",
    "    code = commons.letterToNumber(letter) + key\n",
    "    \n",
    "    code = commons.module(code)\n",
    "    \n",
    "    ciphertext.append(commons.numberToLetter(code))"
   ]
  },
  {
   "cell_type": "code",
   "execution_count": 12,
   "metadata": {},
   "outputs": [
    {
     "data": {
      "text/plain": [
       "['f', 'y', 'y', 'f', 'h', 'p', 'y', 't', 's', 'n', 'l', 'm', 'y']"
      ]
     },
     "execution_count": 12,
     "metadata": {},
     "output_type": "execute_result"
    }
   ],
   "source": [
    "ciphertext"
   ]
  },
  {
   "cell_type": "markdown",
   "metadata": {},
   "source": [
    "# Decryption"
   ]
  },
  {
   "cell_type": "code",
   "execution_count": 14,
   "metadata": {},
   "outputs": [],
   "source": [
    "restored_plaintext = []\n",
    "\n",
    "for cipher in ciphertext:\n",
    "    code = commons.letterToNumber(cipher) - key\n",
    "    \n",
    "    if code < 0:\n",
    "        code = code + 26\n",
    "    elif code > 25:\n",
    "        code = code % 26\n",
    "    \n",
    "    restored_plaintext.append(commons.numberToLetter(code))"
   ]
  },
  {
   "cell_type": "code",
   "execution_count": 15,
   "metadata": {},
   "outputs": [
    {
     "data": {
      "text/plain": [
       "['a', 't', 't', 'a', 'c', 'k', 't', 'o', 'n', 'i', 'g', 'h', 't']"
      ]
     },
     "execution_count": 15,
     "metadata": {},
     "output_type": "execute_result"
    }
   ],
   "source": [
    "restored_plaintext"
   ]
  },
  {
   "cell_type": "markdown",
   "metadata": {},
   "source": [
    "# Attacker side"
   ]
  },
  {
   "cell_type": "code",
   "execution_count": 18,
   "metadata": {},
   "outputs": [
    {
     "name": "stdout",
     "output_type": "stream",
     "text": [
      "['f', 'y', 'y', 'f', 'h', 'p', 'y', 't', 's', 'n', 'l', 'm', 'y']\n",
      "['e', 'x', 'x', 'e', 'g', 'o', 'x', 's', 'r', 'm', 'k', 'l', 'x']\n",
      "['d', 'w', 'w', 'd', 'f', 'n', 'w', 'r', 'q', 'l', 'j', 'k', 'w']\n",
      "['c', 'v', 'v', 'c', 'e', 'm', 'v', 'q', 'p', 'k', 'i', 'j', 'v']\n",
      "['b', 'u', 'u', 'b', 'd', 'l', 'u', 'p', 'o', 'j', 'h', 'i', 'u']\n",
      "['a', 't', 't', 'a', 'c', 'k', 't', 'o', 'n', 'i', 'g', 'h', 't']\n",
      "['z', 's', 's', 'z', 'b', 'j', 's', 'n', 'm', 'h', 'f', 'g', 's']\n",
      "['y', 'r', 'r', 'y', 'a', 'i', 'r', 'm', 'l', 'g', 'e', 'f', 'r']\n",
      "['x', 'q', 'q', 'x', 'z', 'h', 'q', 'l', 'k', 'f', 'd', 'e', 'q']\n",
      "['w', 'p', 'p', 'w', 'y', 'g', 'p', 'k', 'j', 'e', 'c', 'd', 'p']\n",
      "['v', 'o', 'o', 'v', 'x', 'f', 'o', 'j', 'i', 'd', 'b', 'c', 'o']\n",
      "['u', 'n', 'n', 'u', 'w', 'e', 'n', 'i', 'h', 'c', 'a', 'b', 'n']\n",
      "['t', 'm', 'm', 't', 'v', 'd', 'm', 'h', 'g', 'b', 'z', 'a', 'm']\n",
      "['s', 'l', 'l', 's', 'u', 'c', 'l', 'g', 'f', 'a', 'y', 'z', 'l']\n",
      "['r', 'k', 'k', 'r', 't', 'b', 'k', 'f', 'e', 'z', 'x', 'y', 'k']\n",
      "['q', 'j', 'j', 'q', 's', 'a', 'j', 'e', 'd', 'y', 'w', 'x', 'j']\n",
      "['p', 'i', 'i', 'p', 'r', 'z', 'i', 'd', 'c', 'x', 'v', 'w', 'i']\n",
      "['o', 'h', 'h', 'o', 'q', 'y', 'h', 'c', 'b', 'w', 'u', 'v', 'h']\n",
      "['n', 'g', 'g', 'n', 'p', 'x', 'g', 'b', 'a', 'v', 't', 'u', 'g']\n",
      "['m', 'f', 'f', 'm', 'o', 'w', 'f', 'a', 'z', 'u', 's', 't', 'f']\n",
      "['l', 'e', 'e', 'l', 'n', 'v', 'e', 'z', 'y', 't', 'r', 's', 'e']\n",
      "['k', 'd', 'd', 'k', 'm', 'u', 'd', 'y', 'x', 's', 'q', 'r', 'd']\n",
      "['j', 'c', 'c', 'j', 'l', 't', 'c', 'x', 'w', 'r', 'p', 'q', 'c']\n",
      "['i', 'b', 'b', 'i', 'k', 's', 'b', 'w', 'v', 'q', 'o', 'p', 'b']\n",
      "['h', 'a', 'a', 'h', 'j', 'r', 'a', 'v', 'u', 'p', 'n', 'o', 'a']\n",
      "['g', 'z', 'z', 'g', 'i', 'q', 'z', 'u', 't', 'o', 'm', 'n', 'z']\n"
     ]
    }
   ],
   "source": [
    "for key in range(0, 26):\n",
    "    restored_plaintext = []\n",
    "    for cipher in ciphertext:\n",
    "        restored_code = commons.letterToNumber(cipher) - key\n",
    "        \n",
    "        restored_code = commons.module(restored_code)\n",
    "        \n",
    "        restored_plaintext.append(commons.numberToLetter(restored_code))\n",
    "    print(restored_plaintext)"
   ]
  },
  {
   "cell_type": "code",
   "execution_count": null,
   "metadata": {},
   "outputs": [],
   "source": [
    "# key space: 26"
   ]
  }
 ],
 "metadata": {
  "kernelspec": {
   "display_name": "Python 3",
   "language": "python",
   "name": "python3"
  },
  "language_info": {
   "codemirror_mode": {
    "name": "ipython",
    "version": 3
   },
   "file_extension": ".py",
   "mimetype": "text/x-python",
   "name": "python",
   "nbconvert_exporter": "python",
   "pygments_lexer": "ipython3",
   "version": "3.6.4"
  }
 },
 "nbformat": 4,
 "nbformat_minor": 2
}
